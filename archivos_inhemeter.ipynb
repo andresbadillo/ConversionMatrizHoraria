{
  "nbformat": 4,
  "nbformat_minor": 0,
  "metadata": {
    "colab": {
      "provenance": [],
      "collapsed_sections": [
        "OHQdRyVNhJUM",
        "lmsHn49thQt_"
      ],
      "authorship_tag": "ABX9TyODVpJKJx+Xk4x26aVBrtrD",
      "include_colab_link": true
    },
    "kernelspec": {
      "name": "python3",
      "display_name": "Python 3"
    },
    "language_info": {
      "name": "python"
    }
  },
  "cells": [
    {
      "cell_type": "markdown",
      "metadata": {
        "id": "view-in-github",
        "colab_type": "text"
      },
      "source": [
        "<a href=\"https://colab.research.google.com/github/andresbadillo/ConversionMatrizHoraria/blob/master/archivos_inhemeter.ipynb\" target=\"_parent\"><img src=\"https://colab.research.google.com/assets/colab-badge.svg\" alt=\"Open In Colab\"/></a>"
      ]
    },
    {
      "cell_type": "markdown",
      "source": [
        "## Cargar archivos de lectura de los medidores Inhemeter"
      ],
      "metadata": {
        "id": "OHQdRyVNhJUM"
      }
    },
    {
      "cell_type": "code",
      "execution_count": null,
      "metadata": {
        "id": "yTb6uEQ8a_u4"
      },
      "outputs": [],
      "source": [
        "import pandas as pd\n",
        "from google.colab import files\n",
        "\n",
        "# Paso 1: Cargar el archivo de texto\n",
        "uploaded = files.upload()\n",
        "input_file_path = list(uploaded.keys())[0]\n",
        "output_file_path = input_file_path.replace('.txt', '.csv')\n",
        "\n",
        "# Leer el archivo\n",
        "with open(input_file_path, 'r', encoding='utf-8') as file:\n",
        "    lines = file.readlines()\n",
        "\n",
        "# Eliminar las primeras 6 filas\n",
        "lines = lines[6:]\n",
        "\n",
        "# Identificar la línea donde comienzan los datos\n",
        "data_start_index = None\n",
        "for i, line in enumerate(lines):\n",
        "    if line.startswith(\"No.|Date Time\"):\n",
        "        data_start_index = i\n",
        "        break\n",
        "\n",
        "# Extraer los datos y la cabecera\n",
        "header = lines[data_start_index].strip().split('|')\n",
        "data_lines = lines[data_start_index + 1:]\n",
        "\n",
        "# Crear una lista de diccionarios para almacenar los datos\n",
        "data = []\n",
        "for line in data_lines:\n",
        "    values = line.strip().split('|')\n",
        "    if len(values) == len(header):\n",
        "        data.append(dict(zip(header, values)))\n",
        "\n",
        "# Crear un DataFrame\n",
        "df = pd.DataFrame(data)\n",
        "\n",
        "# Convertir las columnas numéricas y de fecha al tipo correcto\n",
        "for col in df.columns:\n",
        "    try:\n",
        "        df[col] = pd.to_numeric(df[col])\n",
        "    except ValueError:\n",
        "        try:\n",
        "            df[col] = pd.to_datetime(df[col])\n",
        "        except ValueError:\n",
        "            pass\n",
        "\n",
        "# Eliminar filas donde \"Date Time\" tenga datos de 30 minutos\n",
        "df = df[~df['Date Time'].dt.minute.isin([30])]\n",
        "\n",
        "# Eliminar la columna \"No.\"\n",
        "df = df.drop(columns=['No.'])\n",
        "\n",
        "# Calcular la energía consumida por hora para cada energía\n",
        "df['kWhR'] = df['Positive active energy (A+) total(kWh)'].diff().shift(-1)\n",
        "df['kWhD'] = df['Negative active energy (A-) total(kWh)'].diff().shift(-1)\n",
        "df['kVarR'] = df['Positive reactive energy (Q+) total(kvarh)'].diff().shift(-1)\n",
        "df['kVarD'] = df['Negative reactive energy (Q-) total(kvarh)'].diff().shift(-1)\n",
        "\n",
        "# Exportar a CSV con delimitador \";\"\n",
        "df.to_csv(output_file_path, index=False, encoding='utf-8', sep=';')\n",
        "\n",
        "print(f\"El archivo CSV ha sido creado: {output_file_path}\")\n"
      ]
    },
    {
      "cell_type": "markdown",
      "source": [
        "## Exportar la matriz horaria"
      ],
      "metadata": {
        "id": "lmsHn49thQt_"
      }
    },
    {
      "cell_type": "code",
      "source": [
        "# Eliminar columnas innecesarias\n",
        "df = df.drop(columns=[\n",
        "    'Positive active energy (A+) total(kWh)',\n",
        "    'Negative active energy (A-) total(kWh)',\n",
        "    'Positive reactive energy (Q+) total(kvarh)',\n",
        "    'Negative reactive energy (Q-) total(kvarh)'\n",
        "])\n",
        "\n",
        "# Separar la columna \"Date Time\" en \"Date\" y \"Time\"\n",
        "df['Date'] = df['Date Time'].dt.date\n",
        "df['Time'] = df['Date Time'].dt.hour\n",
        "df = df.drop(columns=['Date Time'])\n",
        "\n",
        "# Reordenar columnas para que \"Date\" y \"Time\" estén al principio\n",
        "columns_order = ['Date', 'Time'] + [col for col in df.columns if col not in ['Date', 'Time']]\n",
        "df = df[columns_order]\n",
        "\n",
        "# Exportar provisionalmente a un archivo CSV\n",
        "provisional_output_path = 'provisional.csv'\n",
        "df.to_csv(provisional_output_path, index=False, encoding='utf-8', sep=';')\n",
        "\n",
        "print(f\"El archivo provisional CSV ha sido creado: {provisional_output_path}\")\n",
        "\n",
        "# Crear una matriz horaria con una columna independiente para cada tipo de energía\n",
        "df_melted = df.melt(id_vars=['Date', 'Time'], value_vars=['kWhR', 'kWhD', 'kVarR', 'kVarD'],\n",
        "                    var_name='Energy Type', value_name='Value')\n",
        "\n",
        "# Pivotar la columna \"Time\" para obtener una matriz horaria\n",
        "df_pivot = df_melted.pivot_table(\n",
        "    index=['Date', 'Energy Type'],\n",
        "    columns='Time',\n",
        "    values='Value',\n",
        "    aggfunc='sum'\n",
        ")\n",
        "\n",
        "# Aplanar el índice de columnas para un formato tipo matríz\n",
        "df_pivot.columns = [f\"Hour{col}\" for col in df_pivot.columns]\n",
        "df_pivot.reset_index(inplace=True)\n",
        "\n",
        "# Exportar la matriz horaria a un archivo CSV\n",
        "matrix_output_path = 'hourly_matrix.csv'\n",
        "df_pivot.to_csv(matrix_output_path, index=False, encoding='utf-8', sep=';')\n",
        "\n",
        "print(f\"El archivo matriz horaria CSV ha sido creado: {matrix_output_path}\")"
      ],
      "metadata": {
        "id": "2VF_gFj3MwpK"
      },
      "execution_count": null,
      "outputs": []
    },
    {
      "cell_type": "markdown",
      "source": [
        "## Transformar otro tipo de archivo en matriz horaria"
      ],
      "metadata": {
        "id": "BoF3STMHhU9R"
      }
    },
    {
      "cell_type": "code",
      "source": [
        "import pandas as pd\n",
        "from google.colab import files\n",
        "\n",
        "# Paso 1: Cargar el archivo de Excel\n",
        "uploaded = files.upload()\n",
        "input_file_path = list(uploaded.keys())[0]\n",
        "output_file_path = input_file_path.replace('.xlsx', '_processed.csv')\n",
        "\n",
        "# Leer el archivo Excel\n",
        "df = pd.read_excel(input_file_path)\n",
        "\n",
        "# Eliminar la columna No.\n",
        "df = df.drop(columns=['No.'], errors='ignore')\n",
        "\n",
        "# Renombrar las columnas\n",
        "df = df.rename(columns={\n",
        "    'Positive active energy (A+) total(kWh)': 'kWhR',\n",
        "    'Negative active energy (A-) total(kWh)': 'kWhD',\n",
        "    'Positive reactive energy (Q+) total(kvarh)': 'kVarR',\n",
        "    'Negative reactive energy (Q-) total(kvarh)': 'kVarD'\n",
        "})\n",
        "\n",
        "# Convertir la columna de fecha y hora al formato datetime\n",
        "df['Date Time'] = pd.to_datetime(df['Date Time'])\n",
        "\n",
        "# Extraer la fecha, la hora y los minutos\n",
        "df['Date'] = df['Date Time'].dt.date\n",
        "df['Hour'] = df['Date Time'].dt.hour\n",
        "df['Minute'] = df['Date Time'].dt.minute\n",
        "\n",
        "# Ajustar la hora para la agrupación correcta\n",
        "df['Adjusted Hour'] = df['Hour']\n",
        "df.loc[df['Minute'] == 0, 'Adjusted Hour'] = df['Hour'] - 1\n",
        "\n",
        "df_grouped = df[df['Minute'].isin([15, 30, 45]) | ((df['Minute'] == 0) & (df['Adjusted Hour'] >= 0))]\n",
        "df_grouped = df_grouped.drop(columns=['Date Time', 'Hour', 'Minute']).groupby(['Date', 'Adjusted Hour']).sum().reset_index()\n",
        "df_grouped = df_grouped.rename(columns={'Adjusted Hour': 'Hour'})\n",
        "\n",
        "# Reordenar columnas\n",
        "columns_order = ['Date', 'Hour'] + [col for col in df_grouped.columns if col not in ['Date', 'Hour', 'Date Time']]\n",
        "df_grouped = df_grouped[columns_order]\n",
        "\n",
        "# Crear una matriz horaria con una columna independiente para cada tipo de energía\n",
        "df_melted = df_grouped.melt(id_vars=['Date', 'Hour'], value_vars=['kWhR', 'kWhD', 'kVarR', 'kVarD'],\n",
        "                            var_name='Energy Type', value_name='Value')\n",
        "\n",
        "# Pivotar la columna \"Hour\" para obtener una matriz horaria\n",
        "df_pivot = df_melted.pivot_table(\n",
        "    index=['Date', 'Energy Type'],\n",
        "    columns='Hour',\n",
        "    values='Value',\n",
        "    aggfunc='sum'\n",
        ")\n",
        "\n",
        "# Aplanar el índice de columnas para un formato tipo matriz\n",
        "df_pivot.columns = [f\"Hour{col}\" for col in df_pivot.columns]\n",
        "df_pivot.reset_index(inplace=True)\n",
        "\n",
        "# Exportar la matriz horaria a un archivo CSV\n",
        "matrix_output_path = input_file_path.replace('.xlsx', '_hourly_matrix.csv')\n",
        "df_pivot.to_csv(matrix_output_path, index=False, encoding='utf-8', sep=';')\n",
        "\n",
        "print(f\"El archivo matriz horaria CSV ha sido creado: {matrix_output_path}\")"
      ],
      "metadata": {
        "id": "27cN-fW9rTrB"
      },
      "execution_count": null,
      "outputs": []
    }
  ]
}